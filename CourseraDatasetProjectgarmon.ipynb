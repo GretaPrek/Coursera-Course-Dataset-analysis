{
 "cells": [
  {
   "cell_type": "markdown",
   "id": "6c94f03b-f600-45ba-8871-d9d6227388cc",
   "metadata": {},
   "source": [
    "<h1>Coursera Course Dataset analysis</h1>\n",
    "Kaggle dataset analysis and visualisation with Matplotlib & Seaborn, project by Greta Prekerienė\n"
   ]
  },
  {
   "cell_type": "markdown",
   "id": "6f5c23a5-ae8c-4650-a2bc-6e674d064137",
   "metadata": {},
   "source": [
    "<h2>Introduction</h2>\n",
    "Project dedicated to practice working with data from Kaggle, performing basic Explanatory Data Analysis(EDA), performing queries and filtering data using Pandas. Practice visualizing data with Matplotlib & Seaborn libraries. Objectives and requirements are provided in the README file.\n",
    "\n",
    "__Structure of coding and analysis of this document__\n",
    "1. Section 1. Preparing data\n",
    "2. Section 2. Basic EDA\n",
    "3. Section 3. Data modification\n",
    "\n",
    "Preparing data section includes data loading using Pandas, checking missing values and duplicates.\n",
    "\n",
    "In the end is summary."
   ]
  },
  {
   "cell_type": "markdown",
   "id": "d4e39a1b-a71e-45eb-99d0-40a221628418",
   "metadata": {},
   "source": [
    "<h3>Section 1. Preparing data</h3>"
   ]
  },
  {
   "cell_type": "markdown",
   "id": "b1908a64-9828-4be5-b908-b83951d14130",
   "metadata": {},
   "source": [
    "<h4>Load the data using Pandas</h4>\n",
    "Importing csv, numpy and pandas libraries. Reading a csv file with Coursera Course Dataset from Kaggle https://www.kaggle.com/datasets/siddharthm1698/coursera-course-dataset.\n",
    "Improting matplotlib and seaborn for visualizing.\n",
    "First 5 rows provided from data."
   ]
  },
  {
   "cell_type": "code",
   "execution_count": 371,
   "id": "3b5954c1-b84f-47d0-b002-88d3364111ed",
   "metadata": {},
   "outputs": [
    {
     "data": {
      "text/html": [
       "<div>\n",
       "<style scoped>\n",
       "    .dataframe tbody tr th:only-of-type {\n",
       "        vertical-align: middle;\n",
       "    }\n",
       "\n",
       "    .dataframe tbody tr th {\n",
       "        vertical-align: top;\n",
       "    }\n",
       "\n",
       "    .dataframe thead th {\n",
       "        text-align: right;\n",
       "    }\n",
       "</style>\n",
       "<table border=\"1\" class=\"dataframe\">\n",
       "  <thead>\n",
       "    <tr style=\"text-align: right;\">\n",
       "      <th></th>\n",
       "      <th>course_title</th>\n",
       "      <th>course_organization</th>\n",
       "      <th>course_Certificate_type</th>\n",
       "      <th>course_rating</th>\n",
       "      <th>course_difficulty</th>\n",
       "      <th>course_students_enrolled</th>\n",
       "    </tr>\n",
       "  </thead>\n",
       "  <tbody>\n",
       "    <tr>\n",
       "      <th>134</th>\n",
       "      <td>(ISC)² Systems Security Certified Practitioner...</td>\n",
       "      <td>(ISC)²</td>\n",
       "      <td>SPECIALIZATION</td>\n",
       "      <td>4.7</td>\n",
       "      <td>Beginner</td>\n",
       "      <td>5.3k</td>\n",
       "    </tr>\n",
       "    <tr>\n",
       "      <th>743</th>\n",
       "      <td>A Crash Course in Causality:  Inferring Causal...</td>\n",
       "      <td>University of Pennsylvania</td>\n",
       "      <td>COURSE</td>\n",
       "      <td>4.7</td>\n",
       "      <td>Intermediate</td>\n",
       "      <td>17k</td>\n",
       "    </tr>\n",
       "    <tr>\n",
       "      <th>874</th>\n",
       "      <td>A Crash Course in Data Science</td>\n",
       "      <td>Johns Hopkins University</td>\n",
       "      <td>COURSE</td>\n",
       "      <td>4.5</td>\n",
       "      <td>Mixed</td>\n",
       "      <td>130k</td>\n",
       "    </tr>\n",
       "    <tr>\n",
       "      <th>413</th>\n",
       "      <td>A Law Student's Toolkit</td>\n",
       "      <td>Yale University</td>\n",
       "      <td>COURSE</td>\n",
       "      <td>4.7</td>\n",
       "      <td>Mixed</td>\n",
       "      <td>91k</td>\n",
       "    </tr>\n",
       "    <tr>\n",
       "      <th>635</th>\n",
       "      <td>A Life of Happiness and Fulfillment</td>\n",
       "      <td>Indian School of Business</td>\n",
       "      <td>COURSE</td>\n",
       "      <td>4.8</td>\n",
       "      <td>Mixed</td>\n",
       "      <td>320k</td>\n",
       "    </tr>\n",
       "  </tbody>\n",
       "</table>\n",
       "</div>"
      ],
      "text/plain": [
       "                                          course_title  \\\n",
       "134  (ISC)² Systems Security Certified Practitioner...   \n",
       "743  A Crash Course in Causality:  Inferring Causal...   \n",
       "874                     A Crash Course in Data Science   \n",
       "413                            A Law Student's Toolkit   \n",
       "635                A Life of Happiness and Fulfillment   \n",
       "\n",
       "            course_organization course_Certificate_type  course_rating  \\\n",
       "134                      (ISC)²          SPECIALIZATION            4.7   \n",
       "743  University of Pennsylvania                  COURSE            4.7   \n",
       "874    Johns Hopkins University                  COURSE            4.5   \n",
       "413             Yale University                  COURSE            4.7   \n",
       "635   Indian School of Business                  COURSE            4.8   \n",
       "\n",
       "    course_difficulty course_students_enrolled  \n",
       "134          Beginner                     5.3k  \n",
       "743      Intermediate                      17k  \n",
       "874             Mixed                     130k  \n",
       "413             Mixed                      91k  \n",
       "635             Mixed                     320k  "
      ]
     },
     "execution_count": 371,
     "metadata": {},
     "output_type": "execute_result"
    }
   ],
   "source": [
    "import csv\n",
    "import pandas as pd\n",
    "import matplotlib.pyplot as plt\n",
    "import seaborn as sns\n",
    "\n",
    "csv_path = \"Data_coursera_kaggle/coursera_data.csv\"\n",
    "df_original = pd.read_csv(csv_path, index_col=0)\n",
    "df_original.head()\n"
   ]
  },
  {
   "cell_type": "markdown",
   "id": "92a1d9f7-db99-4d30-8ef2-590d6cff15cd",
   "metadata": {},
   "source": [
    "<h4>Data cleaning.</h4>Missing values, finding duplicate samples and features, handling outliers.\n"
   ]
  },
  {
   "cell_type": "markdown",
   "id": "409cebcc-7046-48ab-8871-ea67325654a2",
   "metadata": {},
   "source": [
    "<h5>Missing values</h5>\n",
    "No missing values found so no further actions are needed."
   ]
  },
  {
   "cell_type": "code",
   "execution_count": 337,
   "id": "062b1c02-28d7-4b80-9b27-6e3f4ee06565",
   "metadata": {},
   "outputs": [
    {
     "data": {
      "text/plain": [
       "course_title                0\n",
       "course_organization         0\n",
       "course_Certificate_type     0\n",
       "course_rating               0\n",
       "course_difficulty           0\n",
       "course_students_enrolled    0\n",
       "dtype: int64"
      ]
     },
     "execution_count": 337,
     "metadata": {},
     "output_type": "execute_result"
    }
   ],
   "source": [
    "df_original.isnull().sum() # Missing values count"
   ]
  },
  {
   "cell_type": "markdown",
   "id": "662164d2-9857-47e9-a18e-7e77349e548c",
   "metadata": {},
   "source": [
    "<h5>Duplicates</h5>\n",
    "All rows doesn't have duplicates. No additional actions."
   ]
  },
  {
   "cell_type": "code",
   "execution_count": 338,
   "id": "c57122a1-6a2f-4244-ad89-825d3eba6456",
   "metadata": {},
   "outputs": [
    {
     "name": "stdout",
     "output_type": "stream",
     "text": [
      "Number of Duplicates:  0\n"
     ]
    }
   ],
   "source": [
    "duplicates = df_original.duplicated()\n",
    "sum_duplicates = duplicates.sum()\n",
    "sum_duplicates = duplicates.size - duplicates.value_counts()[False]\n",
    "print(\"Number of Duplicates: \", sum_duplicates)"
   ]
  },
  {
   "cell_type": "markdown",
   "id": "62c5c733-d4a9-4ac4-92a1-0b26e4506fa2",
   "metadata": {},
   "source": [
    "<h5>Outliers</h5>\n",
    "There is 1 numeric type column. Outliers values provided in code ouput below.\n",
    "In regard this project scope and relatively small sample size outliers will remain in the data."
   ]
  },
  {
   "cell_type": "code",
   "execution_count": 470,
   "id": "925cfee5-8c61-4392-a247-0c8e9c01ce2b",
   "metadata": {},
   "outputs": [
    {
     "data": {
      "text/plain": [
       "<Axes: title={'center': 'Course rating box-and-whisker plot'}>"
      ]
     },
     "execution_count": 470,
     "metadata": {},
     "output_type": "execute_result"
    },
    {
     "data": {
      "image/png": "[encoded data removed]",
      "text/plain": [
       "<Figure size 500x500 with 1 Axes>"
      ]
     },
     "metadata": {},
     "output_type": "display_data"
    }
   ],
   "source": [
    "df_original[['course_rating']].plot(\n",
    "    kind='box',\n",
    "    title='Course rating box-and-whisker plot', \n",
    "    figsize= (5,5)\n",
    ")"
   ]
  },
  {
   "cell_type": "markdown",
   "id": "f2e63cb0-d996-4be8-8a8b-ea837258d029",
   "metadata": {},
   "source": [
    "Box plot shows outliers for course ratings starting from rating of 3.3 almost to 4.1. This indicates overall higher rating of the courses."
   ]
  },
  {
   "cell_type": "code",
   "execution_count": 340,
   "id": "6754b121-86d5-47c3-9e1d-bdf7fde72212",
   "metadata": {},
   "outputs": [
    {
     "name": "stdout",
     "output_type": "stream",
     "text": [
      "\n",
      "Column: course_rating\n",
      "Outliers detected:\n",
      "767    3.3\n",
      "609    4.1\n",
      "659    4.0\n",
      "352    3.7\n",
      "178    3.9\n",
      "873    4.0\n",
      "779    3.9\n",
      "Name: course_rating, dtype: float64\n",
      "\n",
      "Summary: Columns with Outliers:\n",
      "course_rating\n"
     ]
    }
   ],
   "source": [
    "from scipy import stats\n",
    "\n",
    "def find_outliers(column, method='zscore', threshold=3):\n",
    "  \"\"\"\n",
    "  This function detects outliers in a numerical column using a specified method.\n",
    "\n",
    "  Args:\n",
    "      column (pandas.Series): The numerical column to analyze.\n",
    "      method (str, optional): The method for outlier detection. Defaults to 'zscore'.\n",
    "          - 'zscore': Uses z-scores (standard deviations from the mean).\n",
    "          - 'iqr': Uses Interquartile Range (IQR).\n",
    "      threshold (float, optional): The threshold for outlier detection. Defaults to 3.\n",
    "          - For z-scores, values with absolute value exceeding the threshold are considered outliers.\n",
    "          - For IQR, values below Q1 - threshold * IQR or above Q3 + threshold * IQR are considered outliers.\n",
    "\n",
    "  Returns:\n",
    "      pandas.Series: A Series containing True for outliers and False for non-outliers.\n",
    "  \"\"\"\n",
    "  if method == 'zscore':\n",
    "    z_scores = stats.zscore(column)\n",
    "    return np.abs(z_scores) > threshold\n",
    "  elif method == 'iqr':\n",
    "    q1 = column.quantile(0.25)\n",
    "    q3 = column.quantile(0.75)\n",
    "    iqr = q3 - q1\n",
    "    return (column < (q1 - threshold * iqr)) | (column > (q3 + threshold * iqr))\n",
    "  else:\n",
    "    raise ValueError(\"Invalid method. Choose 'zscore' or 'iqr'.\")\n",
    "\n",
    "\n",
    "\n",
    "numerical_columns = df_original.select_dtypes(include=['number'])\n",
    "\n",
    "columns_with_outliers = []\n",
    "\n",
    "for col in numerical_columns:\n",
    "  # Detect outliers using z-scores\n",
    "  outliers = find_outliers(df_original[col], method='zscore')\n",
    "\n",
    "  # Track columns with outliers\n",
    "  if outliers.any():\n",
    "    columns_with_outliers.append(col)\n",
    "\n",
    "  # Print results for the current column\n",
    "  print(f\"\\nColumn: {col}\")\n",
    "  if outliers.any():\n",
    "    print(\"Outliers detected:\")\n",
    "    print(df_original[col][outliers])  # Print rows with outliers in the current column\n",
    "  else:\n",
    "    print(\"No outliers detected.\")\n",
    "\n",
    "# Print summary of columns with outliers\n",
    "if columns_with_outliers:\n",
    "  print(\"\\nSummary: Columns with Outliers:\")\n",
    "  for col in columns_with_outliers:\n",
    "    print(col)\n",
    "else:\n",
    "  print(\"\\nSummary: No outliers detected in any numerical columns.\")"
   ]
  },
  {
   "cell_type": "markdown",
   "id": "bcd9725b-ea15-4b44-b01d-86740be2d34d",
   "metadata": {},
   "source": [
    "<h3>Section 2. Basic EDA</h3>"
   ]
  },
  {
   "cell_type": "markdown",
   "id": "f4c390af-adf4-4aa4-b1f5-06c30080fa99",
   "metadata": {},
   "source": [
    "Shape returns dimensions of Dataframe. Dataset contains 891 rows or examples and 6 columns."
   ]
  },
  {
   "cell_type": "code",
   "execution_count": 341,
   "id": "34a46711-4e0b-468c-ba37-5b1524667118",
   "metadata": {},
   "outputs": [
    {
     "data": {
      "text/plain": [
       "(891, 6)"
      ]
     },
     "execution_count": 341,
     "metadata": {},
     "output_type": "execute_result"
    }
   ],
   "source": [
    "df_original.shape"
   ]
  },
  {
   "cell_type": "markdown",
   "id": "3ce6a6d6-4ac2-4b5a-9338-5bbcc04f20d2",
   "metadata": {},
   "source": [
    "From info we can see that there are none missing values. We have only 1 numberic type column."
   ]
  },
  {
   "cell_type": "code",
   "execution_count": 342,
   "id": "69d4c2de-31c8-45e5-8e84-4cb8789f0b04",
   "metadata": {},
   "outputs": [
    {
     "name": "stdout",
     "output_type": "stream",
     "text": [
      "<class 'pandas.core.frame.DataFrame'>\n",
      "Index: 891 entries, 134 to 163\n",
      "Data columns (total 6 columns):\n",
      " #   Column                    Non-Null Count  Dtype  \n",
      "---  ------                    --------------  -----  \n",
      " 0   course_title              891 non-null    object \n",
      " 1   course_organization       891 non-null    object \n",
      " 2   course_Certificate_type   891 non-null    object \n",
      " 3   course_rating             891 non-null    float64\n",
      " 4   course_difficulty         891 non-null    object \n",
      " 5   course_students_enrolled  891 non-null    object \n",
      "dtypes: float64(1), object(5)\n",
      "memory usage: 48.7+ KB\n"
     ]
    }
   ],
   "source": [
    "df_original.info()"
   ]
  },
  {
   "cell_type": "markdown",
   "id": "a813d0c3-f263-4a23-8b3f-f1a9bebcecba",
   "metadata": {},
   "source": [
    "Dataset has 6 columns related with coursera courses."
   ]
  },
  {
   "cell_type": "code",
   "execution_count": 343,
   "id": "1be26b13-0f0f-4da5-afea-f4b010740e32",
   "metadata": {},
   "outputs": [
    {
     "data": {
      "text/plain": [
       "Index(['course_title', 'course_organization', 'course_Certificate_type',\n",
       "       'course_rating', 'course_difficulty', 'course_students_enrolled'],\n",
       "      dtype='object')"
      ]
     },
     "execution_count": 343,
     "metadata": {},
     "output_type": "execute_result"
    }
   ],
   "source": [
    "df_original.columns"
   ]
  },
  {
   "cell_type": "markdown",
   "id": "f39023b0-08b4-4ff5-a844-4143f38f41cb",
   "metadata": {},
   "source": [
    "Unique values from dataset. Columns course_Certificate_type and course_difficulty might have a categorical values due to low amount of unique values."
   ]
  },
  {
   "cell_type": "code",
   "execution_count": 344,
   "id": "65c3f99c-d225-4cb9-9536-9b16349df25a",
   "metadata": {},
   "outputs": [
    {
     "data": {
      "text/plain": [
       "course_title                888\n",
       "course_organization         154\n",
       "course_Certificate_type       3\n",
       "course_rating                14\n",
       "course_difficulty             4\n",
       "course_students_enrolled    205\n",
       "dtype: int64"
      ]
     },
     "execution_count": 344,
     "metadata": {},
     "output_type": "execute_result"
    }
   ],
   "source": [
    "df_original.nunique()"
   ]
  },
  {
   "cell_type": "markdown",
   "id": "9be0747c-639a-4cb2-b9ab-31a9f8ff7956",
   "metadata": {},
   "source": [
    "In the dataset there is trend to less proffesional and specialized courses. Graph Course certificate type shows amount of courses by certificate."
   ]
  },
  {
   "cell_type": "code",
   "execution_count": 390,
   "id": "cae60af4-883c-43cf-acc0-29194abe3402",
   "metadata": {},
   "outputs": [
    {
     "data": {
      "text/plain": [
       "[Text(0, 0, '582'), Text(0, 0, '297'), Text(0, 0, '12')]"
      ]
     },
     "execution_count": 390,
     "metadata": {},
     "output_type": "execute_result"
    },
    {
     "data": {
      "image/png": "[encoded data removed]",
      "text/plain": [
       "<Figure size 800x300 with 1 Axes>"
      ]
     },
     "metadata": {},
     "output_type": "display_data"
    }
   ],
   "source": [
    "course_certificate_type_plot = df_original['course_Certificate_type'].value_counts().plot(\n",
    "    kind='barh', figsize=(8,3),\n",
    "    title = 'Course certificate type',\n",
    "    ylabel = 'Certificate type',\n",
    "    xlabel = 'Course count', \n",
    "    grid = False,\n",
    "    color = 'navy'\n",
    "            )\n",
    "\n",
    "course_certificate_type_plot.bar_label(auk.containers[0])"
   ]
  },
  {
   "cell_type": "markdown",
   "id": "c34c3067-52b8-49ff-85c3-5c862cf5a041",
   "metadata": {},
   "source": [
    "Value counts of course difficulty in the dataset."
   ]
  },
  {
   "cell_type": "code",
   "execution_count": 346,
   "id": "55a9af06-8b8c-44d3-9eeb-9d2252d65e37",
   "metadata": {},
   "outputs": [
    {
     "data": {
      "text/plain": [
       "course_difficulty\n",
       "Beginner        487\n",
       "Intermediate    198\n",
       "Mixed           187\n",
       "Advanced         19\n",
       "Name: count, dtype: int64"
      ]
     },
     "execution_count": 346,
     "metadata": {},
     "output_type": "execute_result"
    }
   ],
   "source": [
    "df_original['course_difficulty'].value_counts()\n"
   ]
  },
  {
   "cell_type": "code",
   "execution_count": 392,
   "id": "ed10c32c-e112-4d8e-9b27-27747a2bf135",
   "metadata": {},
   "outputs": [
    {
     "data": {
      "text/plain": [
       "Text(0, 0.5, 'Course count')"
      ]
     },
     "execution_count": 392,
     "metadata": {},
     "output_type": "execute_result"
    },
    {
     "data": {
      "image/png": "[encoded data removed]",
      "text/plain": [
       "<Figure size 700x500 with 1 Axes>"
      ]
     },
     "metadata": {},
     "output_type": "display_data"
    }
   ],
   "source": [
    "df_original['course_difficulty'].value_counts().plot(kind='line', figsize=(7,5))\n",
    "plt.title('Value Counts of course difficulty')\n",
    "plt.xlabel('Course difficulty')\n",
    "plt.ylabel('Course count')"
   ]
  },
  {
   "cell_type": "markdown",
   "id": "4d88631e-9fca-4884-b546-808217b025cf",
   "metadata": {},
   "source": [
    "In the graph Value Counts of course difficulty we can see more complex course is the lower amount is available."
   ]
  },
  {
   "cell_type": "markdown",
   "id": "2c0aad21-3336-4fea-8559-8b6775a79a3a",
   "metadata": {},
   "source": [
    "<h3>Section 3. Data modification</h3>\n",
    "After initial data exploration we can see that we have only 1 numerical column out of six. Not the best case for feature comparisson. Course_students_enrolled look like a numerical values with added k for thousands and m for millions. We will add columns to the original data to convert enrolled students into numerical values. Columns course_Certificate_type and course_difficulty will be changed to categorical type."
   ]
  },
  {
   "cell_type": "code",
   "execution_count": 410,
   "id": "e937a46a-1d43-42cd-819a-4e71d0f43b99",
   "metadata": {},
   "outputs": [
    {
     "data": {
      "text/html": [
       "<div>\n",
       "<style scoped>\n",
       "    .dataframe tbody tr th:only-of-type {\n",
       "        vertical-align: middle;\n",
       "    }\n",
       "\n",
       "    .dataframe tbody tr th {\n",
       "        vertical-align: top;\n",
       "    }\n",
       "\n",
       "    .dataframe thead th {\n",
       "        text-align: right;\n",
       "    }\n",
       "</style>\n",
       "<table border=\"1\" class=\"dataframe\">\n",
       "  <thead>\n",
       "    <tr style=\"text-align: right;\">\n",
       "      <th></th>\n",
       "      <th>course_title</th>\n",
       "      <th>course_organization</th>\n",
       "      <th>course_Certificate_type</th>\n",
       "      <th>course_rating</th>\n",
       "      <th>course_difficulty</th>\n",
       "      <th>course_students_enrolled</th>\n",
       "    </tr>\n",
       "  </thead>\n",
       "  <tbody>\n",
       "    <tr>\n",
       "      <th>134</th>\n",
       "      <td>(ISC)² Systems Security Certified Practitioner...</td>\n",
       "      <td>(ISC)²</td>\n",
       "      <td>SPECIALIZATION</td>\n",
       "      <td>4.7</td>\n",
       "      <td>Beginner</td>\n",
       "      <td>5.3k</td>\n",
       "    </tr>\n",
       "    <tr>\n",
       "      <th>743</th>\n",
       "      <td>A Crash Course in Causality:  Inferring Causal...</td>\n",
       "      <td>University of Pennsylvania</td>\n",
       "      <td>COURSE</td>\n",
       "      <td>4.7</td>\n",
       "      <td>Intermediate</td>\n",
       "      <td>17k</td>\n",
       "    </tr>\n",
       "    <tr>\n",
       "      <th>874</th>\n",
       "      <td>A Crash Course in Data Science</td>\n",
       "      <td>Johns Hopkins University</td>\n",
       "      <td>COURSE</td>\n",
       "      <td>4.5</td>\n",
       "      <td>Mixed</td>\n",
       "      <td>130k</td>\n",
       "    </tr>\n",
       "    <tr>\n",
       "      <th>413</th>\n",
       "      <td>A Law Student's Toolkit</td>\n",
       "      <td>Yale University</td>\n",
       "      <td>COURSE</td>\n",
       "      <td>4.7</td>\n",
       "      <td>Mixed</td>\n",
       "      <td>91k</td>\n",
       "    </tr>\n",
       "    <tr>\n",
       "      <th>635</th>\n",
       "      <td>A Life of Happiness and Fulfillment</td>\n",
       "      <td>Indian School of Business</td>\n",
       "      <td>COURSE</td>\n",
       "      <td>4.8</td>\n",
       "      <td>Mixed</td>\n",
       "      <td>320k</td>\n",
       "    </tr>\n",
       "  </tbody>\n",
       "</table>\n",
       "</div>"
      ],
      "text/plain": [
       "                                          course_title  \\\n",
       "134  (ISC)² Systems Security Certified Practitioner...   \n",
       "743  A Crash Course in Causality:  Inferring Causal...   \n",
       "874                     A Crash Course in Data Science   \n",
       "413                            A Law Student's Toolkit   \n",
       "635                A Life of Happiness and Fulfillment   \n",
       "\n",
       "            course_organization course_Certificate_type  course_rating  \\\n",
       "134                      (ISC)²          SPECIALIZATION            4.7   \n",
       "743  University of Pennsylvania                  COURSE            4.7   \n",
       "874    Johns Hopkins University                  COURSE            4.5   \n",
       "413             Yale University                  COURSE            4.7   \n",
       "635   Indian School of Business                  COURSE            4.8   \n",
       "\n",
       "    course_difficulty course_students_enrolled  \n",
       "134          Beginner                     5.3k  \n",
       "743      Intermediate                      17k  \n",
       "874             Mixed                     130k  \n",
       "413             Mixed                      91k  \n",
       "635             Mixed                     320k  "
      ]
     },
     "execution_count": 410,
     "metadata": {},
     "output_type": "execute_result"
    }
   ],
   "source": [
    "df_original.head()"
   ]
  },
  {
   "cell_type": "markdown",
   "id": "733b90c9-5683-449b-813d-d90e79408896",
   "metadata": {},
   "source": [
    "<h4>Course_students_enrolled column convert to numerical values</h4>"
   ]
  },
  {
   "cell_type": "code",
   "execution_count": 394,
   "id": "cdc8a195-e9fc-41b5-9edd-2236d6c07c26",
   "metadata": {},
   "outputs": [
    {
     "data": {
      "text/plain": [
       "array(['5.3k', '17k', '130k', '91k', '320k', '39k', '350k', '2.4k', '61k',\n",
       "       '12k', '4k', '13k', '11k', '27k', '110k', '6.6k', '540k', '22k',\n",
       "       '2.9k', '80k', '9.9k', '23k', '9.2k', '78k', '190k', '35k', '29k',\n",
       "       '14k', '21k', '94k', '69k', '40k', '220k', '150k', '18k', '270k',\n",
       "       '7.9k', '30k', '36k', '20k', '8.1k', '120k', '71k', '63k', '42k',\n",
       "       '480k', '97k', '200k', '180k', '4.2k', '310k', '3.9k', '79k',\n",
       "       '31k', '15k', '10k', '66k', '33k', '56k', '7.3k', '9.7k', '210k',\n",
       "       '28k', '6.5k', '55k', '2.3k', '8.8k', '88k', '1.9k', '68k', '1.6k',\n",
       "       '9.5k', '57k', '26k', '84k', '95k', '5.8k', '24k', '67k', '280k',\n",
       "       '38k', '77k', '510k', '89k', '48k', '160k', '32k', '340k', '82k',\n",
       "       '790k', '19k', '51k', '4.8k', '37k', '43k', '6.4k', '49k', '240k',\n",
       "       '46k', '7.8k', '75k', '81k', '140k', '5.5k', '99k', '100k', '3k',\n",
       "       '830k', '740k', '60k', '96k', '690k', '44k', '4.5k', '8.2k', '16k',\n",
       "       '300k', '8k', '41k', '54k', '9k', '380k', '58k', '5.6k', '7.1k',\n",
       "       '83k', '3.4k', '1.5k', '230k', '760k', '86k', '45k', '7.2k',\n",
       "       '1.8k', '4.1k', '76k', '490k', '170k', '260k', '65k', '470k',\n",
       "       '400k', '4.4k', '62k', '64k', '3.2k', '52k', '290k', '25k', '47k',\n",
       "       '4.9k', '9.4k', '34k', '59k', '73k', '3.6k', '7.6k', '3.8k', '93k',\n",
       "       '430k', '7.4k', '5.4k', '1.7k', '98k', '3.5k', '3.3k', '2.2k',\n",
       "       '610k', '72k', '85k', '8.7k', '53k', '2.6k', '390k', '74k', '6k',\n",
       "       '87k', '370k', '6.3k', '5.9k', '3.2m', '8.4k', '9.1k', '70k',\n",
       "       '630k', '250k', '330k', '6.2k', '92k', '8.9k', '50k', '1.3m',\n",
       "       '440k', '420k', '1.5m', '7.7k', '5.2k', '7k', '6.8k', '750k',\n",
       "       '8.5k', '90k', '2.5m', '6.1k', '9.8k'], dtype=object)"
      ]
     },
     "execution_count": 394,
     "metadata": {},
     "output_type": "execute_result"
    }
   ],
   "source": [
    "df_original.course_students_enrolled.unique()"
   ]
  },
  {
   "cell_type": "markdown",
   "id": "5735c86f-5787-44e5-a221-9c59de855cc7",
   "metadata": {},
   "source": [
    "Course students enrolled column has letter k or m in every column. Creating a dictionary with replace method, all k and m will be replaced by numbers. New dataset df will be created by using method copy() from the df_original."
   ]
  },
  {
   "cell_type": "code",
   "execution_count": 404,
   "id": "069fdc7e-b931-41b7-9203-eaf11f0b7ecc",
   "metadata": {},
   "outputs": [
    {
     "data": {
      "text/plain": [
       "891"
      ]
     },
     "execution_count": 404,
     "metadata": {},
     "output_type": "execute_result"
    }
   ],
   "source": [
    "df_original['course_students_enrolled'].str.count('k|m').sum()"
   ]
  },
  {
   "cell_type": "code",
   "execution_count": 412,
   "id": "7db9bc8f-793c-40bb-a42b-0cba577bc428",
   "metadata": {},
   "outputs": [
    {
     "data": {
      "text/plain": [
       "134      5300.0\n",
       "743     17000.0\n",
       "874    130000.0\n",
       "413     91000.0\n",
       "635    320000.0\n",
       "         ...   \n",
       "236     52000.0\n",
       "883     21000.0\n",
       "545     30000.0\n",
       "875      9800.0\n",
       "163     38000.0\n",
       "Name: course_students_enrolled, Length: 891, dtype: float64"
      ]
     },
     "execution_count": 412,
     "metadata": {},
     "output_type": "execute_result"
    }
   ],
   "source": [
    "df = df_original.copy()\n",
    "replace_dict = {'[kK]': '*1e3', '[mM]': '*1e6'}\n",
    "students_amount = df_original['course_students_enrolled'].replace(replace_dict, regex=True).map(pd.eval)\n",
    "df['course_students_enrolled'] = students_amount\n",
    "df['course_students_enrolled']"
   ]
  },
  {
   "cell_type": "markdown",
   "id": "ac6aa628-92e4-4ba7-8bac-2b90358d8278",
   "metadata": {},
   "source": [
    "Updated dataset df now has 2 numerical columns."
   ]
  },
  {
   "cell_type": "code",
   "execution_count": 413,
   "id": "de104ba8-bbec-426f-95b9-45763fbf220b",
   "metadata": {},
   "outputs": [
    {
     "data": {
      "text/plain": [
       "course_title                 object\n",
       "course_organization          object\n",
       "course_Certificate_type      object\n",
       "course_rating               float64\n",
       "course_difficulty            object\n",
       "course_students_enrolled    float64\n",
       "dtype: object"
      ]
     },
     "execution_count": 413,
     "metadata": {},
     "output_type": "execute_result"
    }
   ],
   "source": [
    "df.dtypes"
   ]
  },
  {
   "cell_type": "markdown",
   "id": "6f9d5600-e387-46fa-bc5d-8825ba2b3ba1",
   "metadata": {},
   "source": [
    "2 dataset numerical values have basic statistics metrics below in the table. From the table we can see that for the course_rating has range of (3.3-4.68), small standard deviation.\n",
    "Course_students_enrolled has range from 1500 to more than 3 million. Standard deviation has relatively high value."
   ]
  },
  {
   "cell_type": "code",
   "execution_count": 414,
   "id": "9e7e408a-ecb8-4db7-b43c-d1b11037dc62",
   "metadata": {},
   "outputs": [
    {
     "data": {
      "text/html": [
       "<style type=\"text/css\">\n",
       "</style>\n",
       "<table id=\"T_5111a\">\n",
       "  <thead>\n",
       "    <tr>\n",
       "      <th class=\"blank level0\" >&nbsp;</th>\n",
       "      <th id=\"T_5111a_level0_col0\" class=\"col_heading level0 col0\" >course_rating</th>\n",
       "      <th id=\"T_5111a_level0_col1\" class=\"col_heading level0 col1\" >course_students_enrolled</th>\n",
       "    </tr>\n",
       "  </thead>\n",
       "  <tbody>\n",
       "    <tr>\n",
       "      <th id=\"T_5111a_level0_row0\" class=\"row_heading level0 row0\" >count</th>\n",
       "      <td id=\"T_5111a_row0_col0\" class=\"data row0 col0\" >891.00</td>\n",
       "      <td id=\"T_5111a_row0_col1\" class=\"data row0 col1\" >891.00</td>\n",
       "    </tr>\n",
       "    <tr>\n",
       "      <th id=\"T_5111a_level0_row1\" class=\"row_heading level0 row1\" >mean</th>\n",
       "      <td id=\"T_5111a_row1_col0\" class=\"data row1 col0\" >4.68</td>\n",
       "      <td id=\"T_5111a_row1_col1\" class=\"data row1 col1\" >90 552.08</td>\n",
       "    </tr>\n",
       "    <tr>\n",
       "      <th id=\"T_5111a_level0_row2\" class=\"row_heading level0 row2\" >std</th>\n",
       "      <td id=\"T_5111a_row2_col0\" class=\"data row2 col0\" >0.16</td>\n",
       "      <td id=\"T_5111a_row2_col1\" class=\"data row2 col1\" >181 936.45</td>\n",
       "    </tr>\n",
       "    <tr>\n",
       "      <th id=\"T_5111a_level0_row3\" class=\"row_heading level0 row3\" >min</th>\n",
       "      <td id=\"T_5111a_row3_col0\" class=\"data row3 col0\" >3.30</td>\n",
       "      <td id=\"T_5111a_row3_col1\" class=\"data row3 col1\" >1 500.00</td>\n",
       "    </tr>\n",
       "    <tr>\n",
       "      <th id=\"T_5111a_level0_row4\" class=\"row_heading level0 row4\" >25%</th>\n",
       "      <td id=\"T_5111a_row4_col0\" class=\"data row4 col0\" >4.60</td>\n",
       "      <td id=\"T_5111a_row4_col1\" class=\"data row4 col1\" >17 500.00</td>\n",
       "    </tr>\n",
       "    <tr>\n",
       "      <th id=\"T_5111a_level0_row5\" class=\"row_heading level0 row5\" >50%</th>\n",
       "      <td id=\"T_5111a_row5_col0\" class=\"data row5 col0\" >4.70</td>\n",
       "      <td id=\"T_5111a_row5_col1\" class=\"data row5 col1\" >42 000.00</td>\n",
       "    </tr>\n",
       "    <tr>\n",
       "      <th id=\"T_5111a_level0_row6\" class=\"row_heading level0 row6\" >75%</th>\n",
       "      <td id=\"T_5111a_row6_col0\" class=\"data row6 col0\" >4.80</td>\n",
       "      <td id=\"T_5111a_row6_col1\" class=\"data row6 col1\" >99 500.00</td>\n",
       "    </tr>\n",
       "    <tr>\n",
       "      <th id=\"T_5111a_level0_row7\" class=\"row_heading level0 row7\" >max</th>\n",
       "      <td id=\"T_5111a_row7_col0\" class=\"data row7 col0\" >5.00</td>\n",
       "      <td id=\"T_5111a_row7_col1\" class=\"data row7 col1\" >3 200 000.00</td>\n",
       "    </tr>\n",
       "  </tbody>\n",
       "</table>\n"
      ],
      "text/plain": [
       "<pandas.io.formats.style.Styler at 0x20297324610>"
      ]
     },
     "execution_count": 414,
     "metadata": {},
     "output_type": "execute_result"
    }
   ],
   "source": [
    "df.describe().style.format(precision=2, thousands=' ')"
   ]
  },
  {
   "cell_type": "markdown",
   "id": "c0e830bf-d7e2-464e-a150-04590a744214",
   "metadata": {},
   "source": [
    "<h4>Columns convert to categorical</h4>\n",
    "Columns course_Certificate_type and course_difficulty will be changed to categorical type. Using astype() method.\n",
    "Method info output shows changed data type, from object to category."
   ]
  },
  {
   "cell_type": "code",
   "execution_count": 415,
   "id": "85bff1ac-2696-47ae-9458-35a1e5352745",
   "metadata": {},
   "outputs": [
    {
     "name": "stdout",
     "output_type": "stream",
     "text": [
      "<class 'pandas.core.frame.DataFrame'>\n",
      "Index: 891 entries, 134 to 163\n",
      "Data columns (total 6 columns):\n",
      " #   Column                    Non-Null Count  Dtype   \n",
      "---  ------                    --------------  -----   \n",
      " 0   course_title              891 non-null    object  \n",
      " 1   course_organization       891 non-null    object  \n",
      " 2   course_Certificate_type   891 non-null    category\n",
      " 3   course_rating             891 non-null    float64 \n",
      " 4   course_difficulty         891 non-null    category\n",
      " 5   course_students_enrolled  891 non-null    float64 \n",
      "dtypes: category(2), float64(2), object(2)\n",
      "memory usage: 69.2+ KB\n"
     ]
    }
   ],
   "source": [
    "df = df.astype({'course_Certificate_type' : 'category', 'course_difficulty': 'category'})\n",
    "df.info()"
   ]
  },
  {
   "cell_type": "markdown",
   "id": "ff26d8a3-5d6a-4da6-8883-080bdf4763e8",
   "metadata": {},
   "source": [
    "There are no correlation between course rating and students enrolled. There are no linear releations between these two features."
   ]
  },
  {
   "cell_type": "code",
   "execution_count": 416,
   "id": "fb384d46-ef5d-48c6-a756-7cfee12f0d2a",
   "metadata": {},
   "outputs": [
    {
     "data": {
      "text/html": [
       "<style type=\"text/css\">\n",
       "</style>\n",
       "<table id=\"T_2d363\">\n",
       "  <thead>\n",
       "    <tr>\n",
       "      <th class=\"blank level0\" >&nbsp;</th>\n",
       "      <th id=\"T_2d363_level0_col0\" class=\"col_heading level0 col0\" >course_rating</th>\n",
       "      <th id=\"T_2d363_level0_col1\" class=\"col_heading level0 col1\" >course_students_enrolled</th>\n",
       "    </tr>\n",
       "  </thead>\n",
       "  <tbody>\n",
       "    <tr>\n",
       "      <th id=\"T_2d363_level0_row0\" class=\"row_heading level0 row0\" >course_rating</th>\n",
       "      <td id=\"T_2d363_row0_col0\" class=\"data row0 col0\" ></td>\n",
       "      <td id=\"T_2d363_row0_col1\" class=\"data row0 col1\" >0.071090</td>\n",
       "    </tr>\n",
       "    <tr>\n",
       "      <th id=\"T_2d363_level0_row1\" class=\"row_heading level0 row1\" >course_students_enrolled</th>\n",
       "      <td id=\"T_2d363_row1_col0\" class=\"data row1 col0\" >0.071090</td>\n",
       "      <td id=\"T_2d363_row1_col1\" class=\"data row1 col1\" ></td>\n",
       "    </tr>\n",
       "  </tbody>\n",
       "</table>\n"
      ],
      "text/plain": [
       "<pandas.io.formats.style.Styler at 0x202989c1090>"
      ]
     },
     "execution_count": 416,
     "metadata": {},
     "output_type": "execute_result"
    }
   ],
   "source": [
    "numeric_columns = df.select_dtypes(include=['number'])\n",
    "matrix = numeric_columns.corr()\n",
    "matrix[matrix<1].style.format(na_rep='')"
   ]
  },
  {
   "cell_type": "markdown",
   "id": "5de2ccb0-a304-4d7a-ae4a-27466686705b",
   "metadata": {},
   "source": [
    "Dataset has 1 new numeric column. Check for outliers must be performed again. Due to sample size we will keep row in the dataset. Also it is not clear if popular courses with high number of students are not relevant for analysis. Further statistic significant needs to be explored. Outliers provided in the box plot below."
   ]
  },
  {
   "cell_type": "code",
   "execution_count": 429,
   "id": "089a07c9-45d5-48ec-ac1d-6f78b170eee6",
   "metadata": {},
   "outputs": [
    {
     "data": {
      "text/plain": [
       "<Axes: title={'center': 'Amount of enrolled students box-and-whisker plot'}, ylabel='Students amount'>"
      ]
     },
     "execution_count": 429,
     "metadata": {},
     "output_type": "execute_result"
    },
    {
     "data": {
      "image/png": "[encoded data removed]",
      "text/plain": [
       "<Figure size 500x500 with 1 Axes>"
      ]
     },
     "metadata": {},
     "output_type": "display_data"
    }
   ],
   "source": [
    "df[['course_students_enrolled']].plot(\n",
    "    kind='box',\n",
    "    title='Amount of enrolled students box-and-whisker plot', \n",
    "    figsize= (5,5),\n",
    "    ylabel = 'Students amount'\n",
    ")"
   ]
  },
  {
   "cell_type": "markdown",
   "id": "57b73070-793d-492e-b877-05d1876c762b",
   "metadata": {},
   "source": [
    "From the boxplot we can there are few outliers marked with circles. Main part of the box is in the lowe part of the graph."
   ]
  },
  {
   "cell_type": "markdown",
   "id": "fc7edb27-0d6b-4e78-953d-476cff019196",
   "metadata": {},
   "source": [
    "<h4>Adding language column</h4>\n",
    "Coursera dataset has courses in different languages. Using library langdetect from course title and organization title joined string new column witn indicated possible language added. Also there is a column with percenteges of detection.\n",
    "In the beggining potencial countries showed signs of subgrouping courses by specific speaking language around the world, but detection library langdetect seems to have issues if the string contains abbreviations. \n",
    "Using combined value of organization and course name increased accuracy for non english language. Unfortunetaly with more correctly detected foreign languages, more foreign languages had selected to be english. Foreign country accuracy increased with english accuracy decreasing."
   ]
  },
  {
   "cell_type": "code",
   "execution_count": 430,
   "id": "3de80200-a497-41f7-8926-fb01ee42cd25",
   "metadata": {},
   "outputs": [
    {
     "data": {
      "text/html": [
       "<div>\n",
       "<style scoped>\n",
       "    .dataframe tbody tr th:only-of-type {\n",
       "        vertical-align: middle;\n",
       "    }\n",
       "\n",
       "    .dataframe tbody tr th {\n",
       "        vertical-align: top;\n",
       "    }\n",
       "\n",
       "    .dataframe thead th {\n",
       "        text-align: right;\n",
       "    }\n",
       "</style>\n",
       "<table border=\"1\" class=\"dataframe\">\n",
       "  <thead>\n",
       "    <tr style=\"text-align: right;\">\n",
       "      <th></th>\n",
       "      <th>course_title</th>\n",
       "      <th>course_organization</th>\n",
       "      <th>course_Certificate_type</th>\n",
       "      <th>course_rating</th>\n",
       "      <th>course_difficulty</th>\n",
       "      <th>course_students_enrolled</th>\n",
       "      <th>course_organization_with_title</th>\n",
       "      <th>language</th>\n",
       "      <th>language_perc</th>\n",
       "    </tr>\n",
       "  </thead>\n",
       "  <tbody>\n",
       "    <tr>\n",
       "      <th>134</th>\n",
       "      <td>(ISC)² Systems Security Certified Practitioner...</td>\n",
       "      <td>(ISC)²</td>\n",
       "      <td>SPECIALIZATION</td>\n",
       "      <td>4.7</td>\n",
       "      <td>Beginner</td>\n",
       "      <td>5300.0</td>\n",
       "      <td>(ISC)² - (ISC)² Systems Security Certified Pra...</td>\n",
       "      <td>en</td>\n",
       "      <td>[en:0.9999965828828276]</td>\n",
       "    </tr>\n",
       "    <tr>\n",
       "      <th>743</th>\n",
       "      <td>A Crash Course in Causality:  Inferring Causal...</td>\n",
       "      <td>University of Pennsylvania</td>\n",
       "      <td>COURSE</td>\n",
       "      <td>4.7</td>\n",
       "      <td>Intermediate</td>\n",
       "      <td>17000.0</td>\n",
       "      <td>University of Pennsylvania - A Crash Course in...</td>\n",
       "      <td>en</td>\n",
       "      <td>[en:0.9999971940816939]</td>\n",
       "    </tr>\n",
       "    <tr>\n",
       "      <th>874</th>\n",
       "      <td>A Crash Course in Data Science</td>\n",
       "      <td>Johns Hopkins University</td>\n",
       "      <td>COURSE</td>\n",
       "      <td>4.5</td>\n",
       "      <td>Mixed</td>\n",
       "      <td>130000.0</td>\n",
       "      <td>Johns Hopkins University - A Crash Course in D...</td>\n",
       "      <td>en</td>\n",
       "      <td>[en:0.9999973144880134]</td>\n",
       "    </tr>\n",
       "    <tr>\n",
       "      <th>413</th>\n",
       "      <td>A Law Student's Toolkit</td>\n",
       "      <td>Yale University</td>\n",
       "      <td>COURSE</td>\n",
       "      <td>4.7</td>\n",
       "      <td>Mixed</td>\n",
       "      <td>91000.0</td>\n",
       "      <td>Yale University - A Law Student's Toolkit</td>\n",
       "      <td>en</td>\n",
       "      <td>[en:0.9999951818937007]</td>\n",
       "    </tr>\n",
       "    <tr>\n",
       "      <th>635</th>\n",
       "      <td>A Life of Happiness and Fulfillment</td>\n",
       "      <td>Indian School of Business</td>\n",
       "      <td>COURSE</td>\n",
       "      <td>4.8</td>\n",
       "      <td>Mixed</td>\n",
       "      <td>320000.0</td>\n",
       "      <td>Indian School of Business - A Life of Happines...</td>\n",
       "      <td>en</td>\n",
       "      <td>[en:0.9999968024390382]</td>\n",
       "    </tr>\n",
       "    <tr>\n",
       "      <th>661</th>\n",
       "      <td>ADHD: Everyday Strategies for Elementary Students</td>\n",
       "      <td>University at Buffalo</td>\n",
       "      <td>COURSE</td>\n",
       "      <td>4.7</td>\n",
       "      <td>Beginner</td>\n",
       "      <td>39000.0</td>\n",
       "      <td>University at Buffalo - ADHD: Everyday Strateg...</td>\n",
       "      <td>en</td>\n",
       "      <td>[en:0.9999966463716701]</td>\n",
       "    </tr>\n",
       "    <tr>\n",
       "      <th>54</th>\n",
       "      <td>AI For Everyone</td>\n",
       "      <td>deeplearning.ai</td>\n",
       "      <td>COURSE</td>\n",
       "      <td>4.8</td>\n",
       "      <td>Beginner</td>\n",
       "      <td>350000.0</td>\n",
       "      <td>deeplearning.ai - AI For Everyone</td>\n",
       "      <td>en</td>\n",
       "      <td>[en:0.9999924934770221]</td>\n",
       "    </tr>\n",
       "    <tr>\n",
       "      <th>488</th>\n",
       "      <td>AI For Medical Treatment</td>\n",
       "      <td>deeplearning.ai</td>\n",
       "      <td>COURSE</td>\n",
       "      <td>4.8</td>\n",
       "      <td>Intermediate</td>\n",
       "      <td>2400.0</td>\n",
       "      <td>deeplearning.ai - AI For Medical Treatment</td>\n",
       "      <td>en</td>\n",
       "      <td>[en:0.8571392681153864, ro:0.14286035168376135]</td>\n",
       "    </tr>\n",
       "    <tr>\n",
       "      <th>58</th>\n",
       "      <td>AI Foundations for Everyone</td>\n",
       "      <td>IBM</td>\n",
       "      <td>SPECIALIZATION</td>\n",
       "      <td>4.7</td>\n",
       "      <td>Beginner</td>\n",
       "      <td>61000.0</td>\n",
       "      <td>IBM - AI Foundations for Everyone</td>\n",
       "      <td>en</td>\n",
       "      <td>[en:0.9999955962916423]</td>\n",
       "    </tr>\n",
       "    <tr>\n",
       "      <th>129</th>\n",
       "      <td>AI for Medical Diagnosis</td>\n",
       "      <td>deeplearning.ai</td>\n",
       "      <td>COURSE</td>\n",
       "      <td>4.7</td>\n",
       "      <td>Intermediate</td>\n",
       "      <td>12000.0</td>\n",
       "      <td>deeplearning.ai - AI for Medical Diagnosis</td>\n",
       "      <td>en</td>\n",
       "      <td>[en:0.7142840401423532, ro:0.28571466037931675]</td>\n",
       "    </tr>\n",
       "  </tbody>\n",
       "</table>\n",
       "</div>"
      ],
      "text/plain": [
       "                                          course_title  \\\n",
       "134  (ISC)² Systems Security Certified Practitioner...   \n",
       "743  A Crash Course in Causality:  Inferring Causal...   \n",
       "874                     A Crash Course in Data Science   \n",
       "413                            A Law Student's Toolkit   \n",
       "635                A Life of Happiness and Fulfillment   \n",
       "661  ADHD: Everyday Strategies for Elementary Students   \n",
       "54                                     AI For Everyone   \n",
       "488                           AI For Medical Treatment   \n",
       "58                         AI Foundations for Everyone   \n",
       "129                           AI for Medical Diagnosis   \n",
       "\n",
       "            course_organization course_Certificate_type  course_rating  \\\n",
       "134                      (ISC)²          SPECIALIZATION            4.7   \n",
       "743  University of Pennsylvania                  COURSE            4.7   \n",
       "874    Johns Hopkins University                  COURSE            4.5   \n",
       "413             Yale University                  COURSE            4.7   \n",
       "635   Indian School of Business                  COURSE            4.8   \n",
       "661       University at Buffalo                  COURSE            4.7   \n",
       "54              deeplearning.ai                  COURSE            4.8   \n",
       "488             deeplearning.ai                  COURSE            4.8   \n",
       "58                          IBM          SPECIALIZATION            4.7   \n",
       "129             deeplearning.ai                  COURSE            4.7   \n",
       "\n",
       "    course_difficulty  course_students_enrolled  \\\n",
       "134          Beginner                    5300.0   \n",
       "743      Intermediate                   17000.0   \n",
       "874             Mixed                  130000.0   \n",
       "413             Mixed                   91000.0   \n",
       "635             Mixed                  320000.0   \n",
       "661          Beginner                   39000.0   \n",
       "54           Beginner                  350000.0   \n",
       "488      Intermediate                    2400.0   \n",
       "58           Beginner                   61000.0   \n",
       "129      Intermediate                   12000.0   \n",
       "\n",
       "                        course_organization_with_title language  \\\n",
       "134  (ISC)² - (ISC)² Systems Security Certified Pra...       en   \n",
       "743  University of Pennsylvania - A Crash Course in...       en   \n",
       "874  Johns Hopkins University - A Crash Course in D...       en   \n",
       "413          Yale University - A Law Student's Toolkit       en   \n",
       "635  Indian School of Business - A Life of Happines...       en   \n",
       "661  University at Buffalo - ADHD: Everyday Strateg...       en   \n",
       "54                   deeplearning.ai - AI For Everyone       en   \n",
       "488         deeplearning.ai - AI For Medical Treatment       en   \n",
       "58                   IBM - AI Foundations for Everyone       en   \n",
       "129         deeplearning.ai - AI for Medical Diagnosis       en   \n",
       "\n",
       "                                       language_perc  \n",
       "134                          [en:0.9999965828828276]  \n",
       "743                          [en:0.9999971940816939]  \n",
       "874                          [en:0.9999973144880134]  \n",
       "413                          [en:0.9999951818937007]  \n",
       "635                          [en:0.9999968024390382]  \n",
       "661                          [en:0.9999966463716701]  \n",
       "54                           [en:0.9999924934770221]  \n",
       "488  [en:0.8571392681153864, ro:0.14286035168376135]  \n",
       "58                           [en:0.9999955962916423]  \n",
       "129  [en:0.7142840401423532, ro:0.28571466037931675]  "
      ]
     },
     "execution_count": 430,
     "metadata": {},
     "output_type": "execute_result"
    }
   ],
   "source": [
    "df['course_organization_with_title'] = df['course_organization'].str.cat(df['course_title'], sep=' - ')\n",
    "from langdetect import detect, lang_detect_exception, detect_langs\n",
    "\n",
    "def check_lang(val):\n",
    "    try:\n",
    "        lang = detect(str(val))\n",
    "    except lang_detect_exception.LangDetectException:\n",
    "        lang = 'UNKNOWN'\n",
    "    return lang\n",
    "\n",
    "def check_language_percentage(val):\n",
    "    try:\n",
    "        lang_percentage = detect_langs(str(val))\n",
    "    except lang_detect_exception.LangDetectException:\n",
    "        lang_percentage = 'UNKNOWN'\n",
    "    return lang_percentage\n",
    "\n",
    "df['language'] = df['course_organization_with_title'].apply(lambda x: check_lang(x))\n",
    "df['language_perc'] = df['course_organization_with_title'].apply(lambda x:check_language_percentage(x))\n",
    "df.head(10)"
   ]
  },
  {
   "cell_type": "markdown",
   "id": "e52e7f9f-eab6-4c1f-85c9-73ebc246f8d9",
   "metadata": {},
   "source": [
    "In total 13 different languages detected in the data set. Some contain special characters and 'kirilica'"
   ]
  },
  {
   "cell_type": "code",
   "execution_count": 273,
   "id": "831ba722-3e65-4ec8-b1e1-1394b2e299e2",
   "metadata": {},
   "outputs": [
    {
     "name": "stdout",
     "output_type": "stream",
     "text": [
      "Unique language detected in the dataset\n"
     ]
    },
    {
     "data": {
      "text/plain": [
       "array(['en', 'de', 'es', 'bg', 'no', 'ca', 'nl', 'fr', 'it', 'pt', 'da',\n",
       "       'tl', 'ru'], dtype=object)"
      ]
     },
     "execution_count": 273,
     "metadata": {},
     "output_type": "execute_result"
    }
   ],
   "source": [
    "print('Unique language detected in the dataset')\n",
    "df.language.unique()"
   ]
  },
  {
   "cell_type": "markdown",
   "id": "28357d99-d770-4961-ae27-781a4bbaf339",
   "metadata": {},
   "source": [
    "Example of courses in spanish language."
   ]
  },
  {
   "cell_type": "code",
   "execution_count": 274,
   "id": "5a3316cb-d6f6-474a-bde9-10dfe2a70968",
   "metadata": {},
   "outputs": [
    {
     "data": {
      "text/html": [
       "<div>\n",
       "<style scoped>\n",
       "    .dataframe tbody tr th:only-of-type {\n",
       "        vertical-align: middle;\n",
       "    }\n",
       "\n",
       "    .dataframe tbody tr th {\n",
       "        vertical-align: top;\n",
       "    }\n",
       "\n",
       "    .dataframe thead th {\n",
       "        text-align: right;\n",
       "    }\n",
       "</style>\n",
       "<table border=\"1\" class=\"dataframe\">\n",
       "  <thead>\n",
       "    <tr style=\"text-align: right;\">\n",
       "      <th></th>\n",
       "      <th>course_title</th>\n",
       "      <th>course_organization</th>\n",
       "      <th>language</th>\n",
       "      <th>language_perc</th>\n",
       "    </tr>\n",
       "  </thead>\n",
       "  <tbody>\n",
       "    <tr>\n",
       "      <th>838</th>\n",
       "      <td>Actualización en el manejo del paciente con di...</td>\n",
       "      <td>Universidad Nacional Autónoma de México</td>\n",
       "      <td>es</td>\n",
       "      <td>[es:0.9999960262140768]</td>\n",
       "    </tr>\n",
       "    <tr>\n",
       "      <th>514</th>\n",
       "      <td>Anticorrupción: Introducción a conceptos y per...</td>\n",
       "      <td>Universidad Nacional Autónoma de México</td>\n",
       "      <td>es</td>\n",
       "      <td>[es:0.9999968193378795]</td>\n",
       "    </tr>\n",
       "    <tr>\n",
       "      <th>512</th>\n",
       "      <td>Aprender</td>\n",
       "      <td>Universidad Nacional Autónoma de México</td>\n",
       "      <td>es</td>\n",
       "      <td>[es:0.9999964610994033]</td>\n",
       "    </tr>\n",
       "    <tr>\n",
       "      <th>551</th>\n",
       "      <td>Aprendiendo a aprender: Poderosas herramientas...</td>\n",
       "      <td>University of California San Diego</td>\n",
       "      <td>es</td>\n",
       "      <td>[es:0.8571398273090964, en:0.14285744494320538]</td>\n",
       "    </tr>\n",
       "    <tr>\n",
       "      <th>877</th>\n",
       "      <td>Aspectos básicos de la planificación y la gest...</td>\n",
       "      <td>University of Virginia</td>\n",
       "      <td>es</td>\n",
       "      <td>[es:0.9999963997289029]</td>\n",
       "    </tr>\n",
       "    <tr>\n",
       "      <th>782</th>\n",
       "      <td>Atención Primaria en Salud: El desafío de las ...</td>\n",
       "      <td>Pontificia Universidad Católica de Chile</td>\n",
       "      <td>es</td>\n",
       "      <td>[es:0.9999944786981323]</td>\n",
       "    </tr>\n",
       "    <tr>\n",
       "      <th>498</th>\n",
       "      <td>Big Data – Introducción al uso práctico de dat...</td>\n",
       "      <td>Universitat Autònoma de Barcelona</td>\n",
       "      <td>es</td>\n",
       "      <td>[es:0.9999956301102008]</td>\n",
       "    </tr>\n",
       "    <tr>\n",
       "      <th>107</th>\n",
       "      <td>Camino a la Excelencia en Gestión de Proyectos</td>\n",
       "      <td>Pontificia Universidad Católica de Chile</td>\n",
       "      <td>es</td>\n",
       "      <td>[es:0.9999953852012158]</td>\n",
       "    </tr>\n",
       "    <tr>\n",
       "      <th>197</th>\n",
       "      <td>Claves de la Dirección de Empresas</td>\n",
       "      <td>IESE Business School</td>\n",
       "      <td>es</td>\n",
       "      <td>[es:0.9999977176833584]</td>\n",
       "    </tr>\n",
       "    <tr>\n",
       "      <th>300</th>\n",
       "      <td>Contabilidad para no contadores</td>\n",
       "      <td>Universidad Nacional Autónoma de México</td>\n",
       "      <td>es</td>\n",
       "      <td>[es:0.9999951738842949]</td>\n",
       "    </tr>\n",
       "    <tr>\n",
       "      <th>691</th>\n",
       "      <td>Corrección, estilo y  variaciones de la lengua...</td>\n",
       "      <td>Universitat Autònoma de Barcelona</td>\n",
       "      <td>es</td>\n",
       "      <td>[es:0.8571433154211507, ca:0.1428566845788271]</td>\n",
       "    </tr>\n",
       "    <tr>\n",
       "      <th>544</th>\n",
       "      <td>Costos para los Negocios</td>\n",
       "      <td>Universidad de Chile</td>\n",
       "      <td>es</td>\n",
       "      <td>[es:0.9999936992533925]</td>\n",
       "    </tr>\n",
       "    <tr>\n",
       "      <th>793</th>\n",
       "      <td>Creatividad, diseño e innovación: Técnicas y h...</td>\n",
       "      <td>Arizona State University</td>\n",
       "      <td>es</td>\n",
       "      <td>[es:0.9999980045357537]</td>\n",
       "    </tr>\n",
       "    <tr>\n",
       "      <th>678</th>\n",
       "      <td>Cuidado de heridas en el ámbito hospitalario</td>\n",
       "      <td>Universidad Nacional Autónoma de México</td>\n",
       "      <td>es</td>\n",
       "      <td>[es:0.9999945259637408]</td>\n",
       "    </tr>\n",
       "    <tr>\n",
       "      <th>730</th>\n",
       "      <td>Cuidados y procedimientos generales en la aten...</td>\n",
       "      <td>Universidad de Chile</td>\n",
       "      <td>es</td>\n",
       "      <td>[es:0.9999960177194089]</td>\n",
       "    </tr>\n",
       "    <tr>\n",
       "      <th>599</th>\n",
       "      <td>Democracia y decisiones públicas. Introducción...</td>\n",
       "      <td>Universitat Autònoma de Barcelona</td>\n",
       "      <td>es</td>\n",
       "      <td>[es:0.9999946399188943]</td>\n",
       "    </tr>\n",
       "    <tr>\n",
       "      <th>675</th>\n",
       "      <td>Diseño Instruccional: Aprendizaje activo y Ped...</td>\n",
       "      <td>Tecnológico de Monterrey</td>\n",
       "      <td>es</td>\n",
       "      <td>[es:0.999996680515564]</td>\n",
       "    </tr>\n",
       "    <tr>\n",
       "      <th>711</th>\n",
       "      <td>Diseño y Creación de un Emprendimiento Social</td>\n",
       "      <td>Pontificia Universidad Católica de Chile</td>\n",
       "      <td>es</td>\n",
       "      <td>[es:0.999998048870732]</td>\n",
       "    </tr>\n",
       "    <tr>\n",
       "      <th>789</th>\n",
       "      <td>El Abogado del Futuro: Legaltech y la Transfor...</td>\n",
       "      <td>Universidad Austral</td>\n",
       "      <td>es</td>\n",
       "      <td>[es:0.9999948377403476]</td>\n",
       "    </tr>\n",
       "    <tr>\n",
       "      <th>847</th>\n",
       "      <td>Estadística y probabilidad</td>\n",
       "      <td>Universidad Nacional Autónoma de México</td>\n",
       "      <td>es</td>\n",
       "      <td>[es:0.999995054256331]</td>\n",
       "    </tr>\n",
       "    <tr>\n",
       "      <th>881</th>\n",
       "      <td>Evaluación educativa</td>\n",
       "      <td>Universidad Nacional Autónoma de México</td>\n",
       "      <td>es</td>\n",
       "      <td>[es:0.9999978824484037]</td>\n",
       "    </tr>\n",
       "    <tr>\n",
       "      <th>880</th>\n",
       "      <td>Explorando la Energía Sustentable</td>\n",
       "      <td>Pontificia Universidad Católica de Chile</td>\n",
       "      <td>es</td>\n",
       "      <td>[es:0.9999943305118467]</td>\n",
       "    </tr>\n",
       "    <tr>\n",
       "      <th>366</th>\n",
       "      <td>Finanzas corporativas</td>\n",
       "      <td>Universidad Nacional Autónoma de México</td>\n",
       "      <td>es</td>\n",
       "      <td>[es:0.9999960642919281]</td>\n",
       "    </tr>\n",
       "    <tr>\n",
       "      <th>552</th>\n",
       "      <td>Finanzas personales</td>\n",
       "      <td>Universidad Nacional Autónoma de México</td>\n",
       "      <td>es</td>\n",
       "      <td>[es:0.9999951914128757]</td>\n",
       "    </tr>\n",
       "    <tr>\n",
       "      <th>851</th>\n",
       "      <td>Formulación y evaluación de proyectos complejos</td>\n",
       "      <td>Universidad de los Andes</td>\n",
       "      <td>es</td>\n",
       "      <td>[es:0.9999975841555429]</td>\n",
       "    </tr>\n",
       "    <tr>\n",
       "      <th>857</th>\n",
       "      <td>Fundamentos Estratégicos Empresariales</td>\n",
       "      <td>Universidad Nacional Autónoma de México</td>\n",
       "      <td>es</td>\n",
       "      <td>[es:0.9999952614001184]</td>\n",
       "    </tr>\n",
       "    <tr>\n",
       "      <th>724</th>\n",
       "      <td>Fundamentos de Excel para Negocios</td>\n",
       "      <td>Universidad Austral</td>\n",
       "      <td>es</td>\n",
       "      <td>[es:0.9999947472781328]</td>\n",
       "    </tr>\n",
       "    <tr>\n",
       "      <th>388</th>\n",
       "      <td>Fundamentos de Finanzas Empresariales</td>\n",
       "      <td>Universidad de los Andes</td>\n",
       "      <td>es</td>\n",
       "      <td>[es:0.9999953076560641]</td>\n",
       "    </tr>\n",
       "    <tr>\n",
       "      <th>705</th>\n",
       "      <td>Fundamentos de la escritura</td>\n",
       "      <td>Tecnológico de Monterrey</td>\n",
       "      <td>es</td>\n",
       "      <td>[es:0.9999942276758294]</td>\n",
       "    </tr>\n",
       "    <tr>\n",
       "      <th>567</th>\n",
       "      <td>Geopolítica y gobernanza global: riesgos y opo...</td>\n",
       "      <td>ESADE Business and Law School</td>\n",
       "      <td>es</td>\n",
       "      <td>[es:0.9999950962663706]</td>\n",
       "    </tr>\n",
       "    <tr>\n",
       "      <th>650</th>\n",
       "      <td>Gestión de organizaciones efectivas</td>\n",
       "      <td>Pontificia Universidad Católica de Chile</td>\n",
       "      <td>es</td>\n",
       "      <td>[es:0.9999979382673408]</td>\n",
       "    </tr>\n",
       "    <tr>\n",
       "      <th>231</th>\n",
       "      <td>Habilidades Gerenciales</td>\n",
       "      <td>Universidad Nacional Autónoma de México</td>\n",
       "      <td>es</td>\n",
       "      <td>[es:0.9999940035395825]</td>\n",
       "    </tr>\n",
       "    <tr>\n",
       "      <th>785</th>\n",
       "      <td>Hacia una práctica constructivista en el aula</td>\n",
       "      <td>Pontificia Universidad Católica de Chile</td>\n",
       "      <td>es</td>\n",
       "      <td>[es:0.9999943565003194]</td>\n",
       "    </tr>\n",
       "    <tr>\n",
       "      <th>562</th>\n",
       "      <td>Implementación del Marketing Mix</td>\n",
       "      <td>IE Business School</td>\n",
       "      <td>es</td>\n",
       "      <td>[en:0.5714261902842385, es:0.28571401635361254...</td>\n",
       "    </tr>\n",
       "    <tr>\n",
       "      <th>495</th>\n",
       "      <td>Introducción a Data Science: Programación Esta...</td>\n",
       "      <td>Universidad Nacional Autónoma de México</td>\n",
       "      <td>es</td>\n",
       "      <td>[es:0.9999968329155524]</td>\n",
       "    </tr>\n",
       "    <tr>\n",
       "      <th>327</th>\n",
       "      <td>Introducción a la programación en Python I: Ap...</td>\n",
       "      <td>Pontificia Universidad Católica de Chile</td>\n",
       "      <td>es</td>\n",
       "      <td>[es:0.9999945577573447]</td>\n",
       "    </tr>\n",
       "    <tr>\n",
       "      <th>699</th>\n",
       "      <td>Liderazgo efectivo para el siglo XXI</td>\n",
       "      <td>Universidad de los Andes</td>\n",
       "      <td>es</td>\n",
       "      <td>[es:0.9999951310435493]</td>\n",
       "    </tr>\n",
       "    <tr>\n",
       "      <th>367</th>\n",
       "      <td>Marketing con Redes Sociales</td>\n",
       "      <td>Tecnológico de Monterrey</td>\n",
       "      <td>es</td>\n",
       "      <td>[es:0.9999964752359716]</td>\n",
       "    </tr>\n",
       "    <tr>\n",
       "      <th>341</th>\n",
       "      <td>Negociación exitosa: Estrategias y habilidades...</td>\n",
       "      <td>University of Michigan</td>\n",
       "      <td>es</td>\n",
       "      <td>[es:0.9999948539927661]</td>\n",
       "    </tr>\n",
       "    <tr>\n",
       "      <th>252</th>\n",
       "      <td>Nutrición y obesidad: control de sobrepeso</td>\n",
       "      <td>Universidad Nacional Autónoma de México</td>\n",
       "      <td>es</td>\n",
       "      <td>[es:0.9999990549517411]</td>\n",
       "    </tr>\n",
       "    <tr>\n",
       "      <th>668</th>\n",
       "      <td>Periodismo digital y combate a las fake news</td>\n",
       "      <td>Universidad Nacional Autónoma de México</td>\n",
       "      <td>es</td>\n",
       "      <td>[es:0.9999967689148835]</td>\n",
       "    </tr>\n",
       "    <tr>\n",
       "      <th>57</th>\n",
       "      <td>Primeros Auxilios Psicológicos (PAP)</td>\n",
       "      <td>Universitat Autònoma de Barcelona</td>\n",
       "      <td>es</td>\n",
       "      <td>[es:0.5714135564666228, ca:0.4285711337595114]</td>\n",
       "    </tr>\n",
       "    <tr>\n",
       "      <th>772</th>\n",
       "      <td>Sexualidad...mucho más que sexo</td>\n",
       "      <td>Universidad de los Andes</td>\n",
       "      <td>es</td>\n",
       "      <td>[es:0.9999963167263217]</td>\n",
       "    </tr>\n",
       "    <tr>\n",
       "      <th>363</th>\n",
       "      <td>Soporte de Tecnologías de la Información de Go...</td>\n",
       "      <td>Crece con Google</td>\n",
       "      <td>es</td>\n",
       "      <td>[es:0.9999962051187925]</td>\n",
       "    </tr>\n",
       "    <tr>\n",
       "      <th>858</th>\n",
       "      <td>¿Qué hacen los buenos directivos? Prioridades ...</td>\n",
       "      <td>IESE Business School</td>\n",
       "      <td>es</td>\n",
       "      <td>[es:0.9999956189686151]</td>\n",
       "    </tr>\n",
       "  </tbody>\n",
       "</table>\n",
       "</div>"
      ],
      "text/plain": [
       "                                          course_title  \\\n",
       "838  Actualización en el manejo del paciente con di...   \n",
       "514  Anticorrupción: Introducción a conceptos y per...   \n",
       "512                                           Aprender   \n",
       "551  Aprendiendo a aprender: Poderosas herramientas...   \n",
       "877  Aspectos básicos de la planificación y la gest...   \n",
       "782  Atención Primaria en Salud: El desafío de las ...   \n",
       "498  Big Data – Introducción al uso práctico de dat...   \n",
       "107     Camino a la Excelencia en Gestión de Proyectos   \n",
       "197                 Claves de la Dirección de Empresas   \n",
       "300                    Contabilidad para no contadores   \n",
       "691  Corrección, estilo y  variaciones de la lengua...   \n",
       "544                           Costos para los Negocios   \n",
       "793  Creatividad, diseño e innovación: Técnicas y h...   \n",
       "678       Cuidado de heridas en el ámbito hospitalario   \n",
       "730  Cuidados y procedimientos generales en la aten...   \n",
       "599  Democracia y decisiones públicas. Introducción...   \n",
       "675  Diseño Instruccional: Aprendizaje activo y Ped...   \n",
       "711      Diseño y Creación de un Emprendimiento Social   \n",
       "789  El Abogado del Futuro: Legaltech y la Transfor...   \n",
       "847                         Estadística y probabilidad   \n",
       "881                               Evaluación educativa   \n",
       "880                  Explorando la Energía Sustentable   \n",
       "366                              Finanzas corporativas   \n",
       "552                                Finanzas personales   \n",
       "851    Formulación y evaluación de proyectos complejos   \n",
       "857             Fundamentos Estratégicos Empresariales   \n",
       "724                 Fundamentos de Excel para Negocios   \n",
       "388              Fundamentos de Finanzas Empresariales   \n",
       "705                        Fundamentos de la escritura   \n",
       "567  Geopolítica y gobernanza global: riesgos y opo...   \n",
       "650                Gestión de organizaciones efectivas   \n",
       "231                            Habilidades Gerenciales   \n",
       "785      Hacia una práctica constructivista en el aula   \n",
       "562                   Implementación del Marketing Mix   \n",
       "495  Introducción a Data Science: Programación Esta...   \n",
       "327  Introducción a la programación en Python I: Ap...   \n",
       "699               Liderazgo efectivo para el siglo XXI   \n",
       "367                       Marketing con Redes Sociales   \n",
       "341  Negociación exitosa: Estrategias y habilidades...   \n",
       "252         Nutrición y obesidad: control de sobrepeso   \n",
       "668       Periodismo digital y combate a las fake news   \n",
       "57                Primeros Auxilios Psicológicos (PAP)   \n",
       "772                    Sexualidad...mucho más que sexo   \n",
       "363  Soporte de Tecnologías de la Información de Go...   \n",
       "858  ¿Qué hacen los buenos directivos? Prioridades ...   \n",
       "\n",
       "                          course_organization language  \\\n",
       "838   Universidad Nacional Autónoma de México       es   \n",
       "514   Universidad Nacional Autónoma de México       es   \n",
       "512   Universidad Nacional Autónoma de México       es   \n",
       "551        University of California San Diego       es   \n",
       "877                    University of Virginia       es   \n",
       "782  Pontificia Universidad Católica de Chile       es   \n",
       "498         Universitat Autònoma de Barcelona       es   \n",
       "107  Pontificia Universidad Católica de Chile       es   \n",
       "197                      IESE Business School       es   \n",
       "300   Universidad Nacional Autónoma de México       es   \n",
       "691         Universitat Autònoma de Barcelona       es   \n",
       "544                      Universidad de Chile       es   \n",
       "793                  Arizona State University       es   \n",
       "678   Universidad Nacional Autónoma de México       es   \n",
       "730                      Universidad de Chile       es   \n",
       "599         Universitat Autònoma de Barcelona       es   \n",
       "675                  Tecnológico de Monterrey       es   \n",
       "711  Pontificia Universidad Católica de Chile       es   \n",
       "789                       Universidad Austral       es   \n",
       "847   Universidad Nacional Autónoma de México       es   \n",
       "881   Universidad Nacional Autónoma de México       es   \n",
       "880  Pontificia Universidad Católica de Chile       es   \n",
       "366   Universidad Nacional Autónoma de México       es   \n",
       "552   Universidad Nacional Autónoma de México       es   \n",
       "851                  Universidad de los Andes       es   \n",
       "857   Universidad Nacional Autónoma de México       es   \n",
       "724                       Universidad Austral       es   \n",
       "388                  Universidad de los Andes       es   \n",
       "705                  Tecnológico de Monterrey       es   \n",
       "567             ESADE Business and Law School       es   \n",
       "650  Pontificia Universidad Católica de Chile       es   \n",
       "231   Universidad Nacional Autónoma de México       es   \n",
       "785  Pontificia Universidad Católica de Chile       es   \n",
       "562                        IE Business School       es   \n",
       "495   Universidad Nacional Autónoma de México       es   \n",
       "327  Pontificia Universidad Católica de Chile       es   \n",
       "699                  Universidad de los Andes       es   \n",
       "367                  Tecnológico de Monterrey       es   \n",
       "341                    University of Michigan       es   \n",
       "252   Universidad Nacional Autónoma de México       es   \n",
       "668   Universidad Nacional Autónoma de México       es   \n",
       "57          Universitat Autònoma de Barcelona       es   \n",
       "772                  Universidad de los Andes       es   \n",
       "363                          Crece con Google       es   \n",
       "858                      IESE Business School       es   \n",
       "\n",
       "                                         language_perc  \n",
       "838                            [es:0.9999960262140768]  \n",
       "514                            [es:0.9999968193378795]  \n",
       "512                            [es:0.9999964610994033]  \n",
       "551    [es:0.8571398273090964, en:0.14285744494320538]  \n",
       "877                            [es:0.9999963997289029]  \n",
       "782                            [es:0.9999944786981323]  \n",
       "498                            [es:0.9999956301102008]  \n",
       "107                            [es:0.9999953852012158]  \n",
       "197                            [es:0.9999977176833584]  \n",
       "300                            [es:0.9999951738842949]  \n",
       "691     [es:0.8571433154211507, ca:0.1428566845788271]  \n",
       "544                            [es:0.9999936992533925]  \n",
       "793                            [es:0.9999980045357537]  \n",
       "678                            [es:0.9999945259637408]  \n",
       "730                            [es:0.9999960177194089]  \n",
       "599                            [es:0.9999946399188943]  \n",
       "675                             [es:0.999996680515564]  \n",
       "711                             [es:0.999998048870732]  \n",
       "789                            [es:0.9999948377403476]  \n",
       "847                             [es:0.999995054256331]  \n",
       "881                            [es:0.9999978824484037]  \n",
       "880                            [es:0.9999943305118467]  \n",
       "366                            [es:0.9999960642919281]  \n",
       "552                            [es:0.9999951914128757]  \n",
       "851                            [es:0.9999975841555429]  \n",
       "857                            [es:0.9999952614001184]  \n",
       "724                            [es:0.9999947472781328]  \n",
       "388                            [es:0.9999953076560641]  \n",
       "705                            [es:0.9999942276758294]  \n",
       "567                            [es:0.9999950962663706]  \n",
       "650                            [es:0.9999979382673408]  \n",
       "231                            [es:0.9999940035395825]  \n",
       "785                            [es:0.9999943565003194]  \n",
       "562  [en:0.5714261902842385, es:0.28571401635361254...  \n",
       "495                            [es:0.9999968329155524]  \n",
       "327                            [es:0.9999945577573447]  \n",
       "699                            [es:0.9999951310435493]  \n",
       "367                            [es:0.9999964752359716]  \n",
       "341                            [es:0.9999948539927661]  \n",
       "252                            [es:0.9999990549517411]  \n",
       "668                            [es:0.9999967689148835]  \n",
       "57      [es:0.5714135564666228, ca:0.4285711337595114]  \n",
       "772                            [es:0.9999963167263217]  \n",
       "363                            [es:0.9999962051187925]  \n",
       "858                            [es:0.9999956189686151]  "
      ]
     },
     "execution_count": 274,
     "metadata": {},
     "output_type": "execute_result"
    }
   ],
   "source": [
    "filter_for_printing = ['course_title', 'course_organization','language', 'language_perc']\n",
    "df[df['language']=='es'][filter_for_printing]"
   ]
  },
  {
   "cell_type": "markdown",
   "id": "7fde92a6-372b-4c50-8b4a-708cf1f45fe1",
   "metadata": {},
   "source": [
    "<h4>Questions</h4>\n",
    "\n",
    "**Which course has the highest rating?**\n",
    "Two course have highest rating of 5 provided below in a table. Worth to mention that both has relatively low number of students enrolled(maximum higher than 3 million student per course)."
   ]
  },
  {
   "cell_type": "code",
   "execution_count": 302,
   "id": "7a33282c-9346-47bc-a274-7297c75386fc",
   "metadata": {},
   "outputs": [
    {
     "data": {
      "text/html": [
       "<div>\n",
       "<style scoped>\n",
       "    .dataframe tbody tr th:only-of-type {\n",
       "        vertical-align: middle;\n",
       "    }\n",
       "\n",
       "    .dataframe tbody tr th {\n",
       "        vertical-align: top;\n",
       "    }\n",
       "\n",
       "    .dataframe thead th {\n",
       "        text-align: right;\n",
       "    }\n",
       "</style>\n",
       "<table border=\"1\" class=\"dataframe\">\n",
       "  <thead>\n",
       "    <tr style=\"text-align: right;\">\n",
       "      <th></th>\n",
       "      <th>course_title</th>\n",
       "      <th>course_rating</th>\n",
       "      <th>course_organization</th>\n",
       "      <th>course_students_enrolled</th>\n",
       "    </tr>\n",
       "  </thead>\n",
       "  <tbody>\n",
       "    <tr>\n",
       "      <th>789</th>\n",
       "      <td>El Abogado del Futuro: Legaltech y la Transfor...</td>\n",
       "      <td>5.0</td>\n",
       "      <td>Universidad Austral</td>\n",
       "      <td>1500.0</td>\n",
       "    </tr>\n",
       "    <tr>\n",
       "      <th>401</th>\n",
       "      <td>Infectious Disease Modelling</td>\n",
       "      <td>5.0</td>\n",
       "      <td>Imperial College London</td>\n",
       "      <td>1600.0</td>\n",
       "    </tr>\n",
       "  </tbody>\n",
       "</table>\n",
       "</div>"
      ],
      "text/plain": [
       "                                          course_title  course_rating  \\\n",
       "789  El Abogado del Futuro: Legaltech y la Transfor...            5.0   \n",
       "401                       Infectious Disease Modelling            5.0   \n",
       "\n",
       "         course_organization  course_students_enrolled  \n",
       "789      Universidad Austral                    1500.0  \n",
       "401  Imperial College London                    1600.0  "
      ]
     },
     "execution_count": 302,
     "metadata": {},
     "output_type": "execute_result"
    }
   ],
   "source": [
    "columns_to_print = ['course_title', 'course_rating', 'course_organization', 'course_students_enrolled']\n",
    "df[df['course_rating'] == 5][columns_to_print].sort_values(by='course_rating', ascending=False)"
   ]
  },
  {
   "cell_type": "markdown",
   "id": "ca54c08e-9d27-4a0e-8fa9-14bc4e428432",
   "metadata": {},
   "source": [
    "**Which course has the lowest rating?**\n",
    "\n",
    "How to create a Website in a Weekend has lowest course rating on the dataset."
   ]
  },
  {
   "cell_type": "code",
   "execution_count": 303,
   "id": "04ef995a-372a-491f-bf4f-f2ad67356f84",
   "metadata": {},
   "outputs": [
    {
     "name": "stdout",
     "output_type": "stream",
     "text": [
      "Lowest rating:\n"
     ]
    },
    {
     "data": {
      "text/plain": [
       "course_title                How To Create a Website in a Weekend! (Project...\n",
       "course_rating                                                             3.3\n",
       "course_organization                          The State University of New York\n",
       "course_students_enrolled                                             140000.0\n",
       "Name: 767, dtype: object"
      ]
     },
     "execution_count": 303,
     "metadata": {},
     "output_type": "execute_result"
    }
   ],
   "source": [
    "min_rating_index = df['course_rating'].idxmin()\n",
    "lowest_rating = df.loc[min_rating_index, columns_to_print]\n",
    "print(\"Lowest rating:\")\n",
    "lowest_rating"
   ]
  },
  {
   "cell_type": "markdown",
   "id": "27415d52-70a4-438f-9664-ca5646778a10",
   "metadata": {},
   "source": [
    "**Which organization provides most courses?**\n",
    "\n",
    "University of Pennsylvania offers 59 courses on coursera. It has highest number of courses."
   ]
  },
  {
   "cell_type": "code",
   "execution_count": 431,
   "id": "b7357685-2d7b-4eff-ad40-3f3ea6b052cf",
   "metadata": {},
   "outputs": [
    {
     "data": {
      "text/plain": [
       "course_organization\n",
       "University of Pennsylvania    59\n",
       "Name: count, dtype: int64"
      ]
     },
     "execution_count": 431,
     "metadata": {},
     "output_type": "execute_result"
    }
   ],
   "source": [
    "df['course_organization'].value_counts().iloc[:1]"
   ]
  },
  {
   "cell_type": "markdown",
   "id": "9dd7a0c4-d56d-49ed-88b9-e7df76cdf712",
   "metadata": {},
   "source": [
    "**Which are top5 organizations by enrolled students amount?**"
   ]
  },
  {
   "cell_type": "code",
   "execution_count": 447,
   "id": "a27f14e3-f5b7-4c72-bf62-1f80ed65a2e7",
   "metadata": {},
   "outputs": [
    {
     "name": "stdout",
     "output_type": "stream",
     "text": [
      "Top5 organizations by enrolled students:\n"
     ]
    },
    {
     "data": {
      "text/plain": [
       "course_organization\n",
       "University of Michigan              7437700.0\n",
       "University of Pennsylvania          5501300.0\n",
       "Stanford University                 4854000.0\n",
       "University of California, Irvine    4326000.0\n",
       "Johns Hopkins University            4298900.0\n",
       "Name: course_students_enrolled, dtype: float64"
      ]
     },
     "execution_count": 447,
     "metadata": {},
     "output_type": "execute_result"
    }
   ],
   "source": [
    "print('Top5 organizations by enrolled students:')\n",
    "df.groupby('course_organization')['course_students_enrolled'].sum().sort_values( ascending=False).head()\n"
   ]
  },
  {
   "cell_type": "markdown",
   "id": "dbac36bd-4825-48f0-b2b2-2a2e2eb93745",
   "metadata": {},
   "source": [
    "**How many students enrolled in courses?**\n",
    "\n",
    "Additional data could provide insights about students who enrolled in more than one course. Currently there are more than 80 million enrolled students. Possible part of those students has more than 1 course on Coursera."
   ]
  },
  {
   "cell_type": "code",
   "execution_count": 450,
   "id": "ade2fd8c-fa1c-423b-a1d9-a55c563b79c4",
   "metadata": {},
   "outputs": [
    {
     "data": {
      "text/plain": [
       "80681900.0"
      ]
     },
     "execution_count": 450,
     "metadata": {},
     "output_type": "execute_result"
    }
   ],
   "source": [
    "df['course_students_enrolled'].sum()"
   ]
  },
  {
   "cell_type": "code",
   "execution_count": 368,
   "id": "86d1e03a-77b2-453f-9fd3-e3da09ade98e",
   "metadata": {},
   "outputs": [
    {
     "data": {
      "text/html": [
       "<div>\n",
       "<style scoped>\n",
       "    .dataframe tbody tr th:only-of-type {\n",
       "        vertical-align: middle;\n",
       "    }\n",
       "\n",
       "    .dataframe tbody tr th {\n",
       "        vertical-align: top;\n",
       "    }\n",
       "\n",
       "    .dataframe thead th {\n",
       "        text-align: right;\n",
       "    }\n",
       "</style>\n",
       "<table border=\"1\" class=\"dataframe\">\n",
       "  <thead>\n",
       "    <tr style=\"text-align: right;\">\n",
       "      <th></th>\n",
       "      <th>course_title</th>\n",
       "      <th>course_organization</th>\n",
       "      <th>student_amount</th>\n",
       "      <th>course_students_enrolled</th>\n",
       "      <th>course_organization_with_title</th>\n",
       "      <th>language</th>\n",
       "      <th>language_perc</th>\n",
       "    </tr>\n",
       "  </thead>\n",
       "  <tbody>\n",
       "    <tr>\n",
       "      <th>0</th>\n",
       "      <td>Course A</td>\n",
       "      <td>Org1</td>\n",
       "      <td>100</td>\n",
       "      <td>480000.0</td>\n",
       "      <td>Org1 - Course A</td>\n",
       "      <td>en</td>\n",
       "      <td>[en:0.7142813585143161, fr:0.1428612354636958,...</td>\n",
       "    </tr>\n",
       "    <tr>\n",
       "      <th>1</th>\n",
       "      <td>Course B</td>\n",
       "      <td>Org2</td>\n",
       "      <td>200</td>\n",
       "      <td>310000.0</td>\n",
       "      <td>Org2 - Course B</td>\n",
       "      <td>en</td>\n",
       "      <td>[fr:0.4275433709306724, en:0.2867423449310085,...</td>\n",
       "    </tr>\n",
       "    <tr>\n",
       "      <th>2</th>\n",
       "      <td>Course C</td>\n",
       "      <td>Org1</td>\n",
       "      <td>150</td>\n",
       "      <td>2500000.0</td>\n",
       "      <td>Org1 - Course C</td>\n",
       "      <td>en</td>\n",
       "      <td>[en:0.5714269088974187, fr:0.4285723109733872]</td>\n",
       "    </tr>\n",
       "    <tr>\n",
       "      <th>3</th>\n",
       "      <td>Course D</td>\n",
       "      <td>Org2</td>\n",
       "      <td>80</td>\n",
       "      <td>1500000.0</td>\n",
       "      <td>Org2 - Course D</td>\n",
       "      <td>de</td>\n",
       "      <td>[de:0.4285711326775741, nl:0.2857151780101519,...</td>\n",
       "    </tr>\n",
       "    <tr>\n",
       "      <th>4</th>\n",
       "      <td>Course E</td>\n",
       "      <td>Org1</td>\n",
       "      <td>50</td>\n",
       "      <td>350000.0</td>\n",
       "      <td>Org1 - Course E</td>\n",
       "      <td>de</td>\n",
       "      <td>[fr:0.712558123082009, en:0.14458567235876552,...</td>\n",
       "    </tr>\n",
       "  </tbody>\n",
       "</table>\n",
       "</div>"
      ],
      "text/plain": [
       "  course_title course_organization  student_amount  course_students_enrolled  \\\n",
       "0     Course A                Org1             100                  480000.0   \n",
       "1     Course B                Org2             200                  310000.0   \n",
       "2     Course C                Org1             150                 2500000.0   \n",
       "3     Course D                Org2              80                 1500000.0   \n",
       "4     Course E                Org1              50                  350000.0   \n",
       "\n",
       "  course_organization_with_title language  \\\n",
       "0                Org1 - Course A       en   \n",
       "1                Org2 - Course B       en   \n",
       "2                Org1 - Course C       en   \n",
       "3                Org2 - Course D       de   \n",
       "4                Org1 - Course E       de   \n",
       "\n",
       "                                       language_perc  \n",
       "0  [en:0.7142813585143161, fr:0.1428612354636958,...  \n",
       "1  [fr:0.4275433709306724, en:0.2867423449310085,...  \n",
       "2     [en:0.5714269088974187, fr:0.4285723109733872]  \n",
       "3  [de:0.4285711326775741, nl:0.2857151780101519,...  \n",
       "4  [fr:0.712558123082009, en:0.14458567235876552,...  "
      ]
     },
     "execution_count": 368,
     "metadata": {},
     "output_type": "execute_result"
    }
   ],
   "source": [
    "df.head()"
   ]
  },
  {
   "cell_type": "markdown",
   "id": "288e8cb8-5aca-4073-81ff-ba3d0b34b3b5",
   "metadata": {},
   "source": [
    "Low number of professional certificate courses doesn't appear on the graph. From the graph rating compared to difficulty distributed equally."
   ]
  },
  {
   "cell_type": "code",
   "execution_count": 467,
   "id": "24297852-9057-4a76-9592-cb725c477d1a",
   "metadata": {},
   "outputs": [
    {
     "data": {
      "image/png": "[encoded data removed]",
      "text/plain": [
       "<Figure size 775.25x500 with 1 Axes>"
      ]
     },
     "metadata": {},
     "output_type": "display_data"
    }
   ],
   "source": [
    "sns.set_theme()\n",
    "\n",
    "rating_difficulty_vs_type_graph = sns.relplot(\n",
    "    data = df,\n",
    "    y = 'course_rating', x='course_difficulty', \n",
    "    hue = 'course_Certificate_type'\n",
    "   )\n",
    "rating_difficulty_vs_type_graph.fig.suptitle('Course rating vs difficulty by Certificate type', fontsize=12)\n",
    "rating_difficulty_vs_type_graph.fig.subplots_adjust(top=0.9)"
   ]
  },
  {
   "cell_type": "markdown",
   "id": "556b255c-96b2-44af-8138-da31c2f8d97a",
   "metadata": {},
   "source": [
    "In comparisson of course rating vs Certificate type by difficulty we can see that professional certificate courses are for beginner. More variaty of different dificulty levels is in course Certificate type."
   ]
  },
  {
   "cell_type": "code",
   "execution_count": 468,
   "id": "5a8c2d8c-8a27-4f73-a9e8-0f35a8be438a",
   "metadata": {},
   "outputs": [
    {
     "data": {
      "image/png": "[encoded data removed]",
      "text/plain": [
       "<Figure size 639.625x500 with 1 Axes>"
      ]
     },
     "metadata": {},
     "output_type": "display_data"
    }
   ],
   "source": [
    "course_type_graph = sns.relplot(\n",
    "    data = df,\n",
    "    x = 'course_Certificate_type', y='course_rating', \n",
    "    hue = 'course_difficulty')\n",
    "course_type_graph.fig.suptitle('Course rating vs Certificate type by difficulty', fontsize=12)\n",
    "course_type_graph.fig.subplots_adjust(top=0.9)"
   ]
  },
  {
   "cell_type": "markdown",
   "id": "075bcdf4-c825-47b4-84ce-9b5672a25744",
   "metadata": {},
   "source": [
    "\n"
   ]
  },
  {
   "cell_type": "markdown",
   "id": "aa2cc5ac-0b00-4542-88a0-e1fc3bb09f31",
   "metadata": {},
   "source": [
    "<h2>Summary</h2>\n",
    "\n",
    "__Insights__\n",
    "1. Data set has 6 features and 891 rows.\n",
    "2. Data set contains numerical, categorical and object data value types.\n",
    "3. Most courses are providing University of Pensilvania. 59 courses in total.\n",
    "4. Most amount of students 3.2 million are enrolled in course 'Machine Learning' By Standorf University.\n",
    "5. Two highest rated courses has lowest amount of enlisted students.\n",
    "6. Course amount decrease with increasing course difficulty.\n",
    "7. Courses have 13 different languages.\n",
    "8. Two numerical features course_rating and course_students_enllisted do not have linear relations. Correlations are close to zero.\n",
    "9. There are only 12 professional sertificate courses out of 891.\n",
    "10. Dataset covers more than 80 millions students enrolled. Although it's not clear how many stydents have more than 1 course.\n",
    "\n",
    "\n",
    "\n",
    "__Suggestions for improvements__\n",
    "1. Bigger data sample. More features to explore.\n",
    "2. Research trends with foreign languages, foreign universities.\n",
    "3. Include graphical materials for visualisation world wide coursera courses data. Example, spanish speaking reagions compare with amount of french language enlisted students.\n"
   ]
  },
  {
   "cell_type": "code",
   "execution_count": null,
   "id": "98c8069b-b3ff-4293-a2ac-ace8f476a61a",
   "metadata": {},
   "outputs": [],
   "source": []
  }
 ],
 "metadata": {
  "kernelspec": {
   "display_name": "Python 3 (ipykernel)",
   "language": "python",
   "name": "python3"
  },
  "language_info": {
   "codemirror_mode": {
    "name": "ipython",
    "version": 3
   },
   "file_extension": ".py",
   "mimetype": "text/x-python",
   "name": "python",
   "nbconvert_exporter": "python",
   "pygments_lexer": "ipython3",
   "version": "3.11.7"
  }
 },
 "nbformat": 4,
 "nbformat_minor": 5
}
